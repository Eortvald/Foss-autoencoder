{
 "cells": [
  {
   "cell_type": "markdown",
   "metadata": {
    "collapsed": true,
    "pycharm": {
     "name": "#%% md\n"
    }
   },
   "source": [
    "## FOSS Deep Learning Project"
   ]
  },
  {
   "cell_type": "code",
   "execution_count": 1,
   "metadata": {
    "pycharm": {
     "name": "#%%\n"
    }
   },
   "outputs": [
    {
     "name": "stdout",
     "output_type": "stream",
     "text": [
      "ran\n"
     ]
    }
   ],
   "source": [
    "import numpy as np\n",
    "import torch, torchvision\n",
    "import matplotlib.pyplot as plt\n",
    "from datetime import *\n",
    "import autoencoder, classifier, preprocess\n",
    "from autoencoder.CAE_model import *\n",
    "import os\n",
    "\n",
    "abs_dir = os.path.abspath('')\n",
    "\n",
    "full_path = os.path.join(abs_dir, 'relative/path/to/file/you/want')\n",
    "device = 'cuda' if torch.cuda.is_available() else 'cpu'\n",
    "print('ran')"
   ]
  },
  {
   "cell_type": "markdown",
   "metadata": {
    "pycharm": {
     "name": "#%% md\n"
    }
   },
   "source": [
    "##### Preproccesing"
   ]
  },
  {
   "cell_type": "code",
   "execution_count": 2,
   "metadata": {
    "pycharm": {
     "name": "#%%\n"
    }
   },
   "outputs": [
    {
     "name": "stdout",
     "output_type": "stream",
     "text": [
      "test\n"
     ]
    }
   ],
   "source": [
    "print('test')"
   ]
  },
  {
   "cell_type": "markdown",
   "metadata": {
    "pycharm": {
     "name": "#%% md\n"
    }
   },
   "source": [
    "##### Autoencoder"
   ]
  },
  {
   "cell_type": "code",
   "execution_count": 3,
   "metadata": {
    "pycharm": {
     "name": "#%%\n"
    }
   },
   "outputs": [],
   "source": [
    "train_loader = 2\n",
    "test_loader = 2\n",
    "b_size = 4\n",
    "num_epochs = 10\n",
    "learning_rate = 1e-3\n",
    "\n",
    "# dimension of the hidden layers\n",
    "layer_channels = [8, 16, 32]\n",
    "z_dim = 30"
   ]
  },
  {
   "cell_type": "code",
   "execution_count": 4,
   "metadata": {
    "pycharm": {
     "name": "#%%\n"
    }
   },
   "outputs": [
    {
     "name": "stdout",
     "output_type": "stream",
     "text": [
      "['3 X 32 X 32']\n"
     ]
    },
    {
     "data": {
      "text/plain": [
       "'\\nTENSOR = torch.rand(128,9,9)\\nbox = torch.tensor(data)\\nprint(TENSOR, box.shape,4*\"\\n\")\\nflad = torch.flatten(TENSOR)\\nprint(\\'New shape: \\n\\',flad.shape)\\n'"
      ]
     },
     "execution_count": 4,
     "metadata": {},
     "output_type": "execute_result"
    }
   ],
   "source": [
    "def conv2D_out_dim(chan, in_dim, kernel, stride, padding, mode = 'Normal'):\n",
    "\n",
    "    if mode == 'Normal':\n",
    "        out_dim = ((in_dim + 2 * padding - 1 * (kernel-1))/stride)+1\n",
    "    #out_dimW = in_dimH if in_dimW is None else in_dimH\n",
    "    else:\n",
    "        out_dim = (in_dim - 1) * stride - 2 * padding + (kernel - 1) + 1\n",
    "        \n",
    "    return [f'{chan} X {out_dim} X {out_dim}']\n",
    "\n",
    "print(conv2D_out_dim(chan = 3,\n",
    "                     in_dim= 17,\n",
    "                     kernel= 2,\n",
    "                     stride= 2,\n",
    "                     padding=1,\n",
    "                     mode = 'Transpose'))\n",
    "\n",
    "#prediction = SimpleVAE(data)\n",
    "#print('Autoencoder are awesome')\n",
    "data = [[[11,22],\n",
    "         [33,44]],\n",
    "        [[55,66],\n",
    "         [77,88]],\n",
    "        [[99,10],\n",
    "         [11,12]]]\n",
    "\n",
    "\n",
    "\n",
    "\n",
    "\"\"\"\n",
    "TENSOR = torch.rand(128,9,9)\n",
    "box = torch.tensor(data)\n",
    "print(TENSOR, box.shape,4*\"\\n\")\n",
    "flad = torch.flatten(TENSOR)\n",
    "print('New shape: \\n',flad.shape)\n",
    "\"\"\"\n",
    "\n",
    "\n"
   ]
  },
  {
   "cell_type": "markdown",
   "metadata": {},
   "source": [
    "#### Simple ANN\n",
    "###### Classifier taking Feature vectors from autoencoder as input"
   ]
  },
  {
   "cell_type": "code",
   "execution_count": 5,
   "metadata": {
    "pycharm": {
     "name": "#%%\n"
    }
   },
   "outputs": [
    {
     "name": "stdout",
     "output_type": "stream",
     "text": [
      "tensor([[-2.1208, -0.9813, -0.8465,  1.9548,  2.1905,  2.3003, -2.0297,  0.2910,\n",
      "         -0.0086,  0.2439,  0.9227, -1.4990, -1.9170,  2.1368, -1.9473, -0.1724,\n",
      "          0.7389, -0.4259, -1.7884, -0.9788,  1.9060,  0.6895,  1.9558, -0.6700,\n",
      "          0.1882, -0.4031, -0.2615, -0.4290,  1.1994, -0.0938]],\n",
      "       device='cuda:0', grad_fn=<AddmmBackward>)\n"
     ]
    }
   ],
   "source": [
    "X = torch.ones([1, 8,200,89]).to(device)\n",
    "device = 'cuda' if torch.cuda.is_available() else 'cpu'\n",
    "aemodel = CAE(z_dim=30).to(device)\n",
    "aemodel.load_state_dict(torch.load('./autoencoder/model_dicts/CAE_10Kmodel.pth', map_location=device))\n",
    "aemodel.eval()\n",
    "\n",
    "ENCO = lambda img : aemodel.encode(img)\n",
    "print(ENCO(X))"
   ]
  },
  {
   "cell_type": "code",
   "execution_count": null,
   "metadata": {
    "pycharm": {
     "name": "#%%\n"
    }
   },
   "outputs": [
    {
     "name": "stdout",
     "output_type": "stream",
     "text": [
      "Images loaded: [0/8000]  ------  19:21:25\n",
      "Images loaded: [200/8000]  ------  19:21:26\n",
      "Images loaded: [400/8000]  ------  19:21:26\n",
      "Images loaded: [600/8000]  ------  19:21:27\n",
      "Images loaded: [800/8000]  ------  19:21:27\n",
      "Images loaded: [1000/8000]  ------  19:21:28\n",
      "Images loaded: [1200/8000]  ------  19:21:28\n",
      "Images loaded: [1400/8000]  ------  19:21:28\n",
      "Images loaded: [1600/8000]  ------  19:21:29\n",
      "Images loaded: [1800/8000]  ------  19:21:29\n",
      "Images loaded: [2000/8000]  ------  19:21:30\n",
      "Images loaded: [2200/8000]  ------  19:21:30\n",
      "Images loaded: [2400/8000]  ------  19:21:31\n",
      "Images loaded: [2600/8000]  ------  19:21:31\n",
      "Images loaded: [2800/8000]  ------  19:21:32\n",
      "Images loaded: [3000/8000]  ------  19:21:32\n",
      "Images loaded: [3200/8000]  ------  19:21:33\n",
      "Images loaded: [3400/8000]  ------  19:21:33\n",
      "Images loaded: [3600/8000]  ------  19:21:33\n",
      "Images loaded: [3800/8000]  ------  19:21:34\n",
      "Images loaded: [4000/8000]  ------  19:21:34\n",
      "Images loaded: [4200/8000]  ------  19:21:35\n",
      "Images loaded: [4400/8000]  ------  19:21:35\n",
      "Images loaded: [4600/8000]  ------  19:21:36\n",
      "Images loaded: [4800/8000]  ------  19:21:36\n",
      "Images loaded: [5000/8000]  ------  19:21:37\n",
      "Images loaded: [5200/8000]  ------  19:21:37\n",
      "Images loaded: [5400/8000]  ------  19:21:38\n",
      "Images loaded: [5600/8000]  ------  19:21:38\n",
      "Images loaded: [5800/8000]  ------  19:21:38\n",
      "Images loaded: [6000/8000]  ------  19:21:39\n",
      "Images loaded: [6200/8000]  ------  19:21:39\n",
      "Images loaded: [6400/8000]  ------  19:21:40\n",
      "Images loaded: [6600/8000]  ------  19:21:40\n",
      "Images loaded: [6800/8000]  ------  19:21:41\n",
      "Images loaded: [7000/8000]  ------  19:21:41\n",
      "Images loaded: [7200/8000]  ------  19:21:42\n",
      "Images loaded: [7400/8000]  ------  19:21:42\n",
      "Images loaded: [7600/8000]  ------  19:21:43\n",
      "Images loaded: [7800/8000]  ------  19:21:43\n",
      "Done reading train/ images\n",
      "Beginning permute\n",
      "Finished permute\n",
      "Dimension of X is :torch.Size([8000, 8, 200, 89])\n",
      "tensor([[[0., 0., 0.,  ..., 0., 0., 0.],\n",
      "         [0., 0., 0.,  ..., 0., 0., 0.],\n",
      "         [0., 0., 0.,  ..., 0., 0., 0.],\n",
      "         ...,\n",
      "         [0., 0., 0.,  ..., 0., 0., 0.],\n",
      "         [0., 0., 0.,  ..., 0., 0., 0.],\n",
      "         [0., 0., 0.,  ..., 0., 0., 0.]],\n",
      "\n",
      "        [[0., 0., 0.,  ..., 0., 0., 0.],\n",
      "         [0., 0., 0.,  ..., 0., 0., 0.],\n",
      "         [0., 0., 0.,  ..., 0., 0., 0.],\n",
      "         ...,\n",
      "         [0., 0., 0.,  ..., 0., 0., 0.],\n",
      "         [0., 0., 0.,  ..., 0., 0., 0.],\n",
      "         [0., 0., 0.,  ..., 0., 0., 0.]],\n",
      "\n",
      "        [[0., 0., 0.,  ..., 0., 0., 0.],\n",
      "         [0., 0., 0.,  ..., 0., 0., 0.],\n",
      "         [0., 0., 0.,  ..., 0., 0., 0.],\n",
      "         ...,\n",
      "         [0., 0., 0.,  ..., 0., 0., 0.],\n",
      "         [0., 0., 0.,  ..., 0., 0., 0.],\n",
      "         [0., 0., 0.,  ..., 0., 0., 0.]],\n",
      "\n",
      "        ...,\n",
      "\n",
      "        [[0., 0., 0.,  ..., 0., 0., 0.],\n",
      "         [0., 0., 0.,  ..., 0., 0., 0.],\n",
      "         [0., 0., 0.,  ..., 0., 0., 0.],\n",
      "         ...,\n",
      "         [0., 0., 0.,  ..., 0., 0., 0.],\n",
      "         [0., 0., 0.,  ..., 0., 0., 0.],\n",
      "         [0., 0., 0.,  ..., 0., 0., 0.]],\n",
      "\n",
      "        [[0., 0., 0.,  ..., 0., 0., 0.],\n",
      "         [0., 0., 0.,  ..., 0., 0., 0.],\n",
      "         [0., 0., 0.,  ..., 0., 0., 0.],\n",
      "         ...,\n",
      "         [0., 0., 0.,  ..., 0., 0., 0.],\n",
      "         [0., 0., 0.,  ..., 0., 0., 0.],\n",
      "         [0., 0., 0.,  ..., 0., 0., 0.]],\n",
      "\n",
      "        [[0., 0., 0.,  ..., 0., 0., 0.],\n",
      "         [0., 0., 0.,  ..., 0., 0., 0.],\n",
      "         [0., 0., 0.,  ..., 0., 0., 0.],\n",
      "         ...,\n",
      "         [0., 0., 0.,  ..., 0., 0., 0.],\n",
      "         [0., 0., 0.,  ..., 0., 0., 0.],\n",
      "         [0., 0., 0.,  ..., 0., 0., 0.]]])\n",
      "Beginning Norm transform\n",
      "Norm transform finished\n",
      "Dimension of X is :torch.Size([8000, 8, 200, 89])------------\n",
      "tensor([[[-0.4820, -0.4820, -0.4820,  ..., -0.4820, -0.4820, -0.4820],\n",
      "         [-0.4820, -0.4820, -0.4820,  ..., -0.4820, -0.4820, -0.4820],\n",
      "         [-0.4820, -0.4820, -0.4820,  ..., -0.4820, -0.4820, -0.4820],\n",
      "         ...,\n",
      "         [-0.4820, -0.4820, -0.4820,  ..., -0.4820, -0.4820, -0.4820],\n",
      "         [-0.4820, -0.4820, -0.4820,  ..., -0.4820, -0.4820, -0.4820],\n",
      "         [-0.4820, -0.4820, -0.4820,  ..., -0.4820, -0.4820, -0.4820]],\n",
      "\n",
      "        [[-0.5317, -0.5317, -0.5317,  ..., -0.5317, -0.5317, -0.5317],\n",
      "         [-0.5317, -0.5317, -0.5317,  ..., -0.5317, -0.5317, -0.5317],\n",
      "         [-0.5317, -0.5317, -0.5317,  ..., -0.5317, -0.5317, -0.5317],\n",
      "         ...,\n",
      "         [-0.5317, -0.5317, -0.5317,  ..., -0.5317, -0.5317, -0.5317],\n",
      "         [-0.5317, -0.5317, -0.5317,  ..., -0.5317, -0.5317, -0.5317],\n",
      "         [-0.5317, -0.5317, -0.5317,  ..., -0.5317, -0.5317, -0.5317]],\n",
      "\n",
      "        [[-0.5315, -0.5315, -0.5315,  ..., -0.5315, -0.5315, -0.5315],\n",
      "         [-0.5315, -0.5315, -0.5315,  ..., -0.5315, -0.5315, -0.5315],\n",
      "         [-0.5315, -0.5315, -0.5315,  ..., -0.5315, -0.5315, -0.5315],\n",
      "         ...,\n",
      "         [-0.5315, -0.5315, -0.5315,  ..., -0.5315, -0.5315, -0.5315],\n",
      "         [-0.5315, -0.5315, -0.5315,  ..., -0.5315, -0.5315, -0.5315],\n",
      "         [-0.5315, -0.5315, -0.5315,  ..., -0.5315, -0.5315, -0.5315]],\n",
      "\n",
      "        ...,\n",
      "\n",
      "        [[-0.5622, -0.5622, -0.5622,  ..., -0.5622, -0.5622, -0.5622],\n",
      "         [-0.5622, -0.5622, -0.5622,  ..., -0.5622, -0.5622, -0.5622],\n",
      "         [-0.5622, -0.5622, -0.5622,  ..., -0.5622, -0.5622, -0.5622],\n",
      "         ...,\n",
      "         [-0.5622, -0.5622, -0.5622,  ..., -0.5622, -0.5622, -0.5622],\n",
      "         [-0.5622, -0.5622, -0.5622,  ..., -0.5622, -0.5622, -0.5622],\n",
      "         [-0.5622, -0.5622, -0.5622,  ..., -0.5622, -0.5622, -0.5622]],\n",
      "\n",
      "        [[-0.5445, -0.5445, -0.5445,  ..., -0.5445, -0.5445, -0.5445],\n",
      "         [-0.5445, -0.5445, -0.5445,  ..., -0.5445, -0.5445, -0.5445],\n",
      "         [-0.5445, -0.5445, -0.5445,  ..., -0.5445, -0.5445, -0.5445],\n",
      "         ...,\n",
      "         [-0.5445, -0.5445, -0.5445,  ..., -0.5445, -0.5445, -0.5445],\n",
      "         [-0.5445, -0.5445, -0.5445,  ..., -0.5445, -0.5445, -0.5445],\n",
      "         [-0.5445, -0.5445, -0.5445,  ..., -0.5445, -0.5445, -0.5445]],\n",
      "\n",
      "        [[-0.5690, -0.5690, -0.5690,  ..., -0.5690, -0.5690, -0.5690],\n",
      "         [-0.5690, -0.5690, -0.5690,  ..., -0.5690, -0.5690, -0.5690],\n",
      "         [-0.5690, -0.5690, -0.5690,  ..., -0.5690, -0.5690, -0.5690],\n",
      "         ...,\n",
      "         [-0.5690, -0.5690, -0.5690,  ..., -0.5690, -0.5690, -0.5690],\n",
      "         [-0.5690, -0.5690, -0.5690,  ..., -0.5690, -0.5690, -0.5690],\n",
      "         [-0.5690, -0.5690, -0.5690,  ..., -0.5690, -0.5690, -0.5690]]])\n",
      "Images loaded: [0/2000]  ------  19:24:08\n",
      "Images loaded: [200/2000]  ------  19:24:08\n",
      "Images loaded: [400/2000]  ------  19:24:09\n",
      "Images loaded: [600/2000]  ------  19:24:09\n",
      "Images loaded: [800/2000]  ------  19:24:10\n",
      "Images loaded: [1000/2000]  ------  19:24:10\n",
      "Images loaded: [1200/2000]  ------  19:24:11\n",
      "Images loaded: [1400/2000]  ------  19:24:11\n",
      "Images loaded: [1600/2000]  ------  19:24:12\n",
      "Images loaded: [1800/2000]  ------  19:24:12\n"
     ]
    }
   ],
   "source": [
    "from classifier.MLP_Classifier import *\n",
    "hidden_out = [8, 10, 10, 8]\n",
    "ANN_10Kmodel = ANN(30, hidden_out)\n",
    "ANN_10Kmodel = ANN_10Kmodel.to(device)\n",
    "learningrate = 0.001  # Insert LR\n",
    "epochs = 50  # Insert epochs\n",
    "\n",
    "train_log = []\n",
    "test_log = []\n",
    "\n",
    "for epoch in range(epochs):\n",
    "    print(f'\\n\\t\\t------------------------------Epoch: {epoch + 1}------------------------------')\n",
    "    tr_loss = train_model(traindataloader, ANN_10Kmodel, ENCO)\n",
    "    train_log.append(tr_loss)\n",
    "    \n",
    "    print('\\t\\t\\t>>>>>>>>>>>>>>>>TEST RESULTS<<<<<<<<<<<<<<<<<')\n",
    "    te_loss = model_evaluate(testdataloader, ANN_10Kmodel, ENCO)\n",
    "    test_log.append(te_loss)\n",
    "    \n",
    "torch.save(ANN_10Kmodel.state_dict(), 'classifier/model_dicts/ANN_10Kmodel.pth')\n",
    "\n",
    "plt.plot(np.arange(len(train_log)), train_log, label='Train')  # etc.\n",
    "plt.plot(np.arange(len(test_log)), test_log, label='Test')\n",
    "plt.xlabel('Epoch')\n",
    "plt.ylabel('Loss')\n",
    "plt.title(\"Train vs Test\")\n",
    "plt.legend()\n",
    "plt.savefig(f\"plots/classifier-plots/ANN_10K_Results-{str(datetime.now())[5:-10].replace(' ', '_').replace(':', '-')}.png\")\n",
    "\n"
   ]
  },
  {
   "cell_type": "code",
   "execution_count": null,
   "metadata": {
    "pycharm": {
     "name": "#%%\n"
    }
   },
   "outputs": [],
   "source": []
  }
 ],
 "metadata": {
  "kernelspec": {
   "display_name": "Python 3",
   "language": "python",
   "name": "python3"
  },
  "language_info": {
   "codemirror_mode": {
    "name": "ipython",
    "version": 3
   },
   "file_extension": ".py",
   "mimetype": "text/x-python",
   "name": "python",
   "nbconvert_exporter": "python",
   "pygments_lexer": "ipython3",
   "version": "3.8.8"
  }
 },
 "nbformat": 4,
 "nbformat_minor": 1
}
