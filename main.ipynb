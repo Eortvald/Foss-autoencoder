{
 "cells": [
  {
   "cell_type": "markdown",
   "metadata": {
    "collapsed": true,
    "pycharm": {
     "name": "#%% md\n"
    }
   },
   "source": [
    "## FOSS Deep Learning Project"
   ]
  },
  {
   "cell_type": "code",
   "execution_count": 1,
   "metadata": {
    "pycharm": {
     "name": "#%%\n"
    }
   },
   "outputs": [
    {
     "name": "stdout",
     "output_type": "stream",
     "text": [
      "ran\n"
     ]
    }
   ],
   "source": [
    "import numpy as np\n",
    "import torch, torchvision\n",
    "import matplotlib.pyplot as plt\n",
    "from datetime import *\n",
    "import autoencoder, classifier, preprocess\n",
    "import pandas as pd\n",
    "from autoencoder.CAE_model import *\n",
    "import os\n",
    "import seaborn as sn\n",
    "\n",
    "\n",
    "abs_dir = os.path.abspath('')\n",
    "\n",
    "full_path = os.path.join(abs_dir, 'relative/path/to/file/you/want')\n",
    "device = 'cuda' if torch.cuda.is_available() else 'cpu'\n",
    "print('ran')"
   ]
  },
  {
   "cell_type": "markdown",
   "metadata": {
    "pycharm": {
     "name": "#%% md\n"
    }
   },
   "source": [
    "##### Preproccesing"
   ]
  },
  {
   "cell_type": "code",
   "execution_count": null,
   "metadata": {
    "pycharm": {
     "name": "#%%\n"
    }
   },
   "outputs": [],
   "source": [
    "print('test')"
   ]
  },
  {
   "cell_type": "markdown",
   "metadata": {
    "pycharm": {
     "name": "#%% md\n"
    }
   },
   "source": [
    "##### Autoencoder"
   ]
  },
  {
   "cell_type": "code",
   "execution_count": null,
   "metadata": {
    "pycharm": {
     "name": "#%%\n"
    }
   },
   "outputs": [],
   "source": [
    "train_loader = 2\n",
    "test_loader = 2\n",
    "b_size = 4\n",
    "num_epochs = 10\n",
    "learning_rate = 1e-3\n",
    "\n",
    "# dimension of the hidden layers\n",
    "layer_channels = [8, 16, 32]\n",
    "z_dim = 30"
   ]
  },
  {
   "cell_type": "code",
   "execution_count": null,
   "metadata": {
    "pycharm": {
     "name": "#%%\n"
    }
   },
   "outputs": [],
   "source": [
    "def conv2D_out_dim(chan, in_dim, kernel, stride, padding, mode = 'Normal'):\n",
    "\n",
    "    if mode == 'Normal':\n",
    "        out_dim = ((in_dim + 2 * padding - 1 * (kernel-1))/stride)+1\n",
    "    #out_dimW = in_dimH if in_dimW is None else in_dimH\n",
    "    else:\n",
    "        out_dim = (in_dim - 1) * stride - 2 * padding + (kernel - 1) + 1\n",
    "        \n",
    "    return [f'{chan} X {out_dim} X {out_dim}']\n",
    "\n",
    "print(conv2D_out_dim(chan = 3,\n",
    "                     in_dim= 17,\n",
    "                     kernel= 2,\n",
    "                     stride= 2,\n",
    "                     padding=1,\n",
    "                     mode = 'Transpose'))\n",
    "\n",
    "#prediction = SimpleVAE(data)\n",
    "#print('Autoencoder are awesome')\n",
    "data = [[[11,22],\n",
    "         [33,44]],\n",
    "        [[55,66],\n",
    "         [77,88]],\n",
    "        [[99,10],\n",
    "         [11,12]]]\n",
    "\n",
    "\n",
    "\n",
    "\n",
    "\"\"\"\n",
    "TENSOR = torch.rand(128,9,9)\n",
    "box = torch.tensor(data)\n",
    "print(TENSOR, box.shape,4*\"\\n\")\n",
    "flad = torch.flatten(TENSOR)\n",
    "print('New shape: \\n',flad.shape)\n",
    "\"\"\"\n",
    "\n",
    "\n"
   ]
  },
  {
   "cell_type": "markdown",
   "metadata": {},
   "source": [
    "#### Simple ANN\n",
    "###### Classifier taking Feature vectors from autoencoder as input"
   ]
  },
  {
   "cell_type": "code",
   "execution_count": null,
   "metadata": {
    "pycharm": {
     "name": "#%%\n"
    }
   },
   "outputs": [],
   "source": [
    "X = torch.ones([1, 8,200,89]).to(device)\n",
    "device = 'cuda' if torch.cuda.is_available() else 'cpu'\n",
    "aemodel = CAE(z_dim=30).to(device)\n",
    "aemodel.load_state_dict(torch.load('./autoencoder/model_dicts/CAE_10Kmodel.pth', map_location=device))\n",
    "aemodel.eval()\n",
    "\n",
    "ENCO = lambda img : aemodel.encode(img)\n",
    "print(ENCO(X))"
   ]
  },
  {
   "cell_type": "code",
   "execution_count": null,
   "metadata": {
    "pycharm": {
     "name": "#%%\n"
    },
    "scrolled": false
   },
   "outputs": [],
   "source": [
    "from classifier.MLP_Classifier import *\n",
    "hidden_out = [18]\n",
    "ANN_10Kmodel = ANN(30, hidden_out)\n",
    "ANN_10Kmodel = ANN_10Kmodel.to(device)\n",
    "learningrate = 0.001  # Insert LR\n",
    "epochs = 50  # Insert epochs\n",
    "\n",
    "train_log = []\n",
    "test_log = []\n",
    "\n",
    "for epoch in range(epochs):\n",
    "    print(f'\\n\\t\\t------------------------------Epoch: {epoch + 1}------------------------------')\n",
    "    tr_loss = train_model(traindataloader, ANN_10Kmodel, ENCO)\n",
    "    train_log.append(tr_loss)\n",
    "    \n",
    "    print('\\t\\t\\t>>>>>>>>>>>>>>>>TEST RESULTS<<<<<<<<<<<<<<<<<')\n",
    "    te_loss = model_evaluate(testdataloader, ANN_10Kmodel, ENCO)\n",
    "    test_log.append(te_loss)\n",
    "    \n",
    "torch.save(ANN_10Kmodel.state_dict(), 'classifier/model_dicts/ANN_10Kmodel.pth')\n",
    "\n",
    "img_name = f\"plots/classifier-plots/ANN_10K_Results-{str(datetime.now())[5:-10].replace(' ', '_').replace(':', '-')}.png\"\n",
    "plt.plot(np.arange(len(train_log)), train_log, label='Train')  # etc.\n",
    "plt.plot(np.arange(len(test_log)), test_log, label='Test')\n",
    "plt.xlabel('Epochs')\n",
    "plt.ylabel('Loss')\n",
    "plt.title(\"Train vs Test loss\")\n",
    "plt.legend()\n",
    "plt.savefig(img_name, transparent = False)\n",
    "\n"
   ]
  },
  {
   "cell_type": "code",
   "execution_count": null,
   "metadata": {
    "pycharm": {
     "name": "#%% md TP,FP,F1 scores and Confusion matrix\n"
    }
   },
   "outputs": [],
   "source": [
    "#### Plots"
   ]
  },
  {
   "cell_type": "code",
   "execution_count": null,
   "metadata": {
    "pycharm": {
     "name": "#%%\n"
    }
   },
   "outputs": [],
   "source": [
    "import numpy as np\n",
    "import pandas as pd\n",
    "import seaborn as sns\n",
    "import matplotlib.pyplot as plt\n",
    "\n",
    "array = [[33,2,0,0,8,0,0],\n",
    "        [3,31,0,5,0,0,0],\n",
    "        [0,4,41,0,54,0,0],\n",
    "        [0,1,0,30,0,6,0],\n",
    "        [0,0,0,0,38,10,0],\n",
    "        [0,23,0,3,1,39,0],\n",
    "        [0,2,2,0,4,1,31]]\n",
    "\n",
    "\n",
    "df_cm = pd.DataFrame(array, index = ['Oat', 'Broken', 'Rye', 'Wheat', 'BarleyGreen', 'Cleaved', 'Skinned'],\n",
    "                  columns = ['Oat', 'Broken', 'Rye', 'Wheat', 'BarleyGreen', 'Cleaved', 'Skinned'])\n",
    "\n",
    "plt.figure(figsize = (10,7))\n",
    "sns.heatmap(df_cm, annot=True)\n"
   ]
  },
  {
   "cell_type": "code",
   "execution_count": 9,
   "metadata": {},
   "outputs": [
    {
     "name": "stdout",
     "output_type": "stream",
     "text": [
      "   total_bill     sex  day\n",
      "0       16.99  Female  Sun\n",
      "1       10.34    Male  Sun\n",
      "2       21.01    Male  Sun\n",
      "3       23.68    Male  Sun\n",
      "4       24.59  Female  Sun\n"
     ]
    },
    {
     "data": {
      "image/png": "[encoded data removed]",
      "text/plain": [
       "<Figure size 720x504 with 2 Axes>"
      ]
     },
     "metadata": {
      "needs_background": "light"
     },
     "output_type": "display_data"
    }
   ],
   "source": [
    "import numpy as np\n",
    "import pandas as pd\n",
    "import seaborn as sns\n",
    "import matplotlib.pyplot as plt\n",
    "tips = sns.load_dataset(\"tips\")\n",
    "tips.pop(\"tip\")\n",
    "tips.pop(\"smoker\")\n",
    "tips.pop(\"time\")\n",
    "tips.pop(\"size\")\n",
    "print(tips.head())\n",
    "\n",
    "\n",
    "g = sns.catplot(x='day', y='total_bill', row='sex', hue='sex', data=tips, kind='bar', dodge=False, saturation=.5, ci=None, aspect=0.9)\n",
    "g.map(plt.axhline, y=0, lw=2, clip_on=False)\n",
    "g.fig.set_figheight(7)\n",
    "g.fig.set_figwidth(10)\n",
    "\n",
    "# def axla(sex):\n",
    "#     plt.gca().text(-.02, .2, \"sex\", fontweight=\"bold\",\n",
    "#             ha=\"right\", va=\"center\", transform=plt.gca().transAxes)\n",
    "# g.map(axla,\"sex\")\n",
    "\n",
    "\n",
    "g.fig.subplots_adjust(hspace=0.2)\n",
    "#g.set_titles(\" \")\n",
    "\n",
    "g.set(yticks=[])\n",
    "g.despine(bottom=True, left=True)\n",
    "plt.show()\n"
   ]
  },
  {
   "cell_type": "code",
   "execution_count": null,
   "metadata": {},
   "outputs": [],
   "source": []
  },
  {
   "cell_type": "code",
   "execution_count": null,
   "metadata": {},
   "outputs": [],
   "source": []
  },
  {
   "cell_type": "code",
   "execution_count": 96,
   "metadata": {},
   "outputs": [
    {
     "name": "stdout",
     "output_type": "stream",
     "text": [
      "    Features            g\n",
      "0  24.841440          Oat\n",
      "1  19.843090       Broken\n",
      "2  18.911186          Rye\n",
      "3  17.276904        Wheat\n",
      "4  16.825122  BarleyGreen\n",
      "5  19.928415      Cleaved\n",
      "6  15.548264      Skinned\n",
      "7  19.124594      Barley*\n",
      "8  18.159927          Oat\n",
      "9  20.120659       Broken\n",
      "Features\n",
      "Oat\n",
      "Broken\n",
      "Rye\n",
      "Wheat\n",
      "BarleyGreen\n",
      "Cleaved\n",
      "Skinned\n",
      "Barley*\n"
     ]
    },
    {
     "data": {
      "text/plain": [
       "<seaborn.axisgrid.FacetGrid at 0x233395f0940>"
      ]
     },
     "execution_count": 96,
     "metadata": {},
     "output_type": "execute_result"
    },
    {
     "data": {
      "image/png": "[encoded data removed]",
      "text/plain": [
       "<Figure size 720x504 with 8 Axes>"
      ]
     },
     "metadata": {},
     "output_type": "display_data"
    }
   ],
   "source": [
    "import numpy as np\n",
    "import pandas as pd\n",
    "import seaborn as sns\n",
    "import matplotlib.pyplot as plt\n",
    "sns.set(style=\"white\", rc={\"axes.facecolor\": (0, 0, 0, 0)})\n",
    "\n",
    "# Create some random distribution data and labels, and store them in a dataframe\n",
    "x = 15 + 4*np.random.randn(640)\n",
    "g = np.tile(['Oat', 'Broken', 'Rye', 'Wheat', 'BarleyGreen', 'Cleaved', 'Skinned', 'Barley*'], 80)\n",
    "df = pd.DataFrame(dict(Features=x, g=g))\n",
    "\n",
    "print(df[:10])\n",
    "\n",
    "\n",
    "# Initialize the FacetGrid chart object\n",
    "#pal = sns.cubehelix_palette(8, rot=-.25, light=.7)\n",
    "#pal = sns.cubehelix_palette(8)\n",
    "pal = sns.color_palette(\"deep\", n_colors=8)\n",
    "# g = sns.FacetGrid(df, row=\"g\", hue=\"g\", aspect=6, height=1.0, palette=pal)\n",
    "g = sns.FacetGrid(df, row=\"g\", hue=\"g\", palette=pal)\n",
    "g.set(xlim=(0,31),xticks=[i for i in range(1,31)])\n",
    "''' Alternatively set figsize using the following 2 parameters.'''\n",
    "g.fig.set_figheight(7)\n",
    "g.fig.set_figwidth(10)\n",
    "# or use plt.gcf().set_size_inches(12, 12)\n",
    "\n",
    "# Draw the densities in a few steps\n",
    "\n",
    "g.map(sns.histplot, \"Features\", clip_on=False, alpha=1, lw=1.5, bins=30, kde=True)\n",
    "g.map(sns.histplot, \"Features\", clip_on=False, color=\"w\", lw=2, bins=30, kde=True)\n",
    "g.map(plt.axhline, y=0, lw=2, clip_on=False)\n",
    "\n",
    "# Define and use a simple function to label the plot in axes coordinates\n",
    "# Values x,y in ax.text(x,y, ...) controls the x,y offset from the x axis.\n",
    "def label(x, color, label):\n",
    "    print(label)\n",
    "    ax = plt.gca()\n",
    "    ax.text(-.02, .2, label, fontweight=\"bold\", color=color,\n",
    "            ha=\"right\", va=\"center\", transform=ax.transAxes)\n",
    "\n",
    "# Use ``map()`` to calculate the label positions\n",
    "print('Features')\n",
    "g.map(label, \"Features\")\n",
    "\n",
    "# Set the subplots to overlap slightly on their vertical direction\n",
    "g.fig.subplots_adjust(hspace=0.1)\n",
    "\n",
    "# Remove axes details that don't play well with overlap\n",
    "\n",
    "\n",
    "g.set_titles(\"\")\n",
    "g.set(yticks=[])\n",
    "g.despine(bottom=True, left=True)"
   ]
  }
 ],
 "metadata": {
  "kernelspec": {
   "display_name": "Python 3",
   "language": "python",
   "name": "python3"
  },
  "language_info": {
   "codemirror_mode": {
    "name": "ipython",
    "version": 3
   },
   "file_extension": ".py",
   "mimetype": "text/x-python",
   "name": "python",
   "nbconvert_exporter": "python",
   "pygments_lexer": "ipython3",
   "version": "3.8.8"
  }
 },
 "nbformat": 4,
 "nbformat_minor": 1
}
