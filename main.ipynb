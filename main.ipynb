{
 "cells": [
  {
   "cell_type": "markdown",
   "metadata": {
    "collapsed": true,
    "pycharm": {
     "name": "#%% md\n"
    }
   },
   "source": [
    "## FOSS Deep Learning Project"
   ]
  },
  {
   "cell_type": "code",
   "execution_count": 2,
   "outputs": [
    {
     "ename": "TypeError",
     "evalue": "__init__() missing 2 required positional arguments: 'x_channels' and 'z_dim'",
     "output_type": "error",
     "traceback": [
      "\u001B[0;31m---------------------------------------------------------------------------\u001B[0m",
      "\u001B[0;31mTypeError\u001B[0m                                 Traceback (most recent call last)",
      "\u001B[0;32m<ipython-input-2-f6f68beae593>\u001B[0m in \u001B[0;36m<module>\u001B[0;34m\u001B[0m\n\u001B[1;32m      1\u001B[0m \u001B[0;32mimport\u001B[0m \u001B[0mnumpy\u001B[0m \u001B[0;32mas\u001B[0m \u001B[0mnp\u001B[0m\u001B[0;34m\u001B[0m\u001B[0;34m\u001B[0m\u001B[0m\n\u001B[1;32m      2\u001B[0m \u001B[0;32mimport\u001B[0m \u001B[0mtorch\u001B[0m\u001B[0;34m,\u001B[0m \u001B[0mtorchvision\u001B[0m\u001B[0;34m\u001B[0m\u001B[0;34m\u001B[0m\u001B[0m\n\u001B[0;32m----> 3\u001B[0;31m \u001B[0;32mimport\u001B[0m \u001B[0mpre_process\u001B[0m\u001B[0;34m,\u001B[0m \u001B[0mautoencoder\u001B[0m\u001B[0;34m,\u001B[0m \u001B[0mclassifier\u001B[0m\u001B[0;34m\u001B[0m\u001B[0;34m\u001B[0m\u001B[0m\n\u001B[0m\u001B[1;32m      4\u001B[0m \u001B[0;34m\u001B[0m\u001B[0m\n\u001B[1;32m      5\u001B[0m \u001B[0;34m\u001B[0m\u001B[0m\n",
      "\u001B[0;32m~/PycharmProjects/Foss/autoencoder.py\u001B[0m in \u001B[0;36m<module>\u001B[0;34m\u001B[0m\n\u001B[1;32m    114\u001B[0m \u001B[0;34m\u001B[0m\u001B[0m\n\u001B[1;32m    115\u001B[0m \u001B[0;34m\u001B[0m\u001B[0m\n\u001B[0;32m--> 116\u001B[0;31m \u001B[0mmodel\u001B[0m \u001B[0;34m=\u001B[0m \u001B[0mVAE\u001B[0m\u001B[0;34m(\u001B[0m\u001B[0;34m)\u001B[0m\u001B[0;34m\u001B[0m\u001B[0;34m\u001B[0m\u001B[0m\n\u001B[0m\u001B[1;32m    117\u001B[0m \u001B[0moptimizer\u001B[0m \u001B[0;34m=\u001B[0m \u001B[0moptim\u001B[0m\u001B[0;34m.\u001B[0m\u001B[0mAdam\u001B[0m\u001B[0;34m(\u001B[0m\u001B[0mmodel\u001B[0m\u001B[0;34m.\u001B[0m\u001B[0mparameters\u001B[0m\u001B[0;34m(\u001B[0m\u001B[0;34m)\u001B[0m\u001B[0;34m,\u001B[0m \u001B[0mlr\u001B[0m\u001B[0;34m=\u001B[0m\u001B[0;36m1e-3\u001B[0m\u001B[0;34m)\u001B[0m\u001B[0;34m\u001B[0m\u001B[0;34m\u001B[0m\u001B[0m\n\u001B[1;32m    118\u001B[0m \u001B[0;34m\u001B[0m\u001B[0m\n",
      "\u001B[0;31mTypeError\u001B[0m: __init__() missing 2 required positional arguments: 'x_channels' and 'z_dim'"
     ]
    }
   ],
   "source": [
    "import numpy as np\n",
    "import torch, torchvision\n",
    "import pre_process, autoencoder, classifier\n"
   ],
   "metadata": {
    "collapsed": false,
    "pycharm": {
     "name": "#%%\n"
    }
   }
  },
  {
   "cell_type": "markdown",
   "source": [
    "##### Preproccesing"
   ],
   "metadata": {
    "collapsed": false,
    "pycharm": {
     "name": "#%% md\n"
    }
   }
  },
  {
   "cell_type": "code",
   "execution_count": null,
   "outputs": [],
   "source": [
    "print(\"I'm a PCA plot\")"
   ],
   "metadata": {
    "collapsed": false,
    "pycharm": {
     "name": "#%%\n"
    }
   }
  },
  {
   "cell_type": "markdown",
   "source": [
    "##### Autoencoder"
   ],
   "metadata": {
    "collapsed": false,
    "pycharm": {
     "name": "#%% md\n"
    }
   }
  },
  {
   "cell_type": "code",
   "execution_count": 55,
   "outputs": [
    {
     "name": "stdout",
     "output_type": "stream",
     "text": [
      "['128 X 9.0 X 9.0']\n",
      "Autoencoder are awesome\n",
      "tensor([[[0.7105, 0.7355, 0.5585,  ..., 0.9921, 0.1584, 0.6897],\n",
      "         [0.5213, 0.6000, 0.9498,  ..., 0.4803, 0.6043, 0.7926],\n",
      "         [0.1455, 0.7987, 0.1551,  ..., 0.1656, 0.3282, 0.7940],\n",
      "         ...,\n",
      "         [0.7553, 0.8661, 0.1658,  ..., 0.6095, 0.3052, 0.1356],\n",
      "         [0.9874, 0.0709, 0.7653,  ..., 0.0555, 0.9424, 0.8932],\n",
      "         [0.0592, 0.1913, 0.1731,  ..., 0.8856, 0.7959, 0.3161]],\n",
      "\n",
      "        [[0.1209, 0.8292, 0.1198,  ..., 0.9735, 0.8694, 0.0410],\n",
      "         [0.0764, 0.1894, 0.3773,  ..., 0.8582, 0.7138, 0.9178],\n",
      "         [0.1090, 0.7139, 0.6911,  ..., 0.0136, 0.4053, 0.0533],\n",
      "         ...,\n",
      "         [0.9168, 0.1026, 0.0215,  ..., 0.5650, 0.7879, 0.8333],\n",
      "         [0.3312, 0.2725, 0.0787,  ..., 0.0614, 0.6123, 0.7116],\n",
      "         [0.3752, 0.4263, 0.3017,  ..., 0.8467, 0.1675, 0.8246]],\n",
      "\n",
      "        [[0.6665, 0.7220, 0.0809,  ..., 0.6351, 0.5295, 0.2686],\n",
      "         [0.2673, 0.9680, 0.7757,  ..., 0.9908, 0.4338, 0.8051],\n",
      "         [0.3795, 0.1524, 0.6299,  ..., 0.7688, 0.1796, 0.4125],\n",
      "         ...,\n",
      "         [0.9917, 0.0302, 0.3858,  ..., 0.6064, 0.2438, 0.4235],\n",
      "         [0.3221, 0.9746, 0.0731,  ..., 0.0207, 0.7134, 0.2311],\n",
      "         [0.7802, 0.7147, 0.0144,  ..., 0.9399, 0.3363, 0.3132]],\n",
      "\n",
      "        ...,\n",
      "\n",
      "        [[0.3525, 0.7396, 0.6681,  ..., 0.6301, 0.2419, 0.2551],\n",
      "         [0.6346, 0.3567, 0.3138,  ..., 0.1445, 0.9270, 0.6956],\n",
      "         [0.5774, 0.5921, 0.3700,  ..., 0.1055, 0.0837, 0.1272],\n",
      "         ...,\n",
      "         [0.7896, 0.6453, 0.1060,  ..., 0.9851, 0.2347, 0.4302],\n",
      "         [0.3891, 0.0182, 0.7185,  ..., 0.6492, 0.3089, 0.5234],\n",
      "         [0.3048, 0.4936, 0.4426,  ..., 0.8351, 0.7861, 0.2558]],\n",
      "\n",
      "        [[0.0092, 0.5055, 0.8974,  ..., 0.1409, 0.8971, 0.6063],\n",
      "         [0.4190, 0.0406, 0.4970,  ..., 0.7160, 0.0065, 0.4087],\n",
      "         [0.5102, 0.7355, 0.7727,  ..., 0.9659, 0.3380, 0.9593],\n",
      "         ...,\n",
      "         [0.2349, 0.0708, 0.8122,  ..., 0.5758, 0.3864, 0.5859],\n",
      "         [0.9563, 0.0675, 0.1357,  ..., 0.3459, 0.3508, 0.5933],\n",
      "         [0.7431, 0.3075, 0.0461,  ..., 0.2636, 0.4459, 0.9641]],\n",
      "\n",
      "        [[0.0559, 0.7639, 0.6583,  ..., 0.2731, 0.5232, 0.5001],\n",
      "         [0.8509, 0.7940, 0.9233,  ..., 0.4112, 0.2473, 0.6805],\n",
      "         [0.5777, 0.0117, 0.9928,  ..., 0.1439, 0.9535, 0.7907],\n",
      "         ...,\n",
      "         [0.5428, 0.6896, 0.2324,  ..., 0.0760, 0.5669, 0.5583],\n",
      "         [0.0778, 0.2298, 0.7254,  ..., 0.3903, 0.7790, 0.3149],\n",
      "         [0.2497, 0.1562, 0.5977,  ..., 0.8337, 0.8371, 0.4329]]]) torch.Size([3, 2, 2]) \n",
      "\n",
      "\n",
      "\n",
      "\n",
      "New shape: \n",
      " torch.Size([10368])\n"
     ]
    },
    {
     "data": {
      "text/plain": "8192"
     },
     "execution_count": 55,
     "metadata": {},
     "output_type": "execute_result"
    }
   ],
   "source": [
    "def conv2D_out_dim(chan, in_dim, kernel, stride, padding):\n",
    "\n",
    "    out_dim = ((in_dim + 2 * padding - 1 * (kernel-1))/stride)+1\n",
    "    #out_dimW = in_dimH if in_dimW is None else in_dimH\n",
    "\n",
    "    return [f'{chan} X {out_dim} X {out_dim}']\n",
    "\n",
    "print(conv2D_out_dim(chan = 128,\n",
    "                     in_dim= 16,\n",
    "                     kernel= 3,\n",
    "                     stride= 2,\n",
    "                     padding=1))\n",
    "\n",
    "#prediction = SimpleVAE(data)\n",
    "print('Autoencoder are awesome')\n",
    "data = [[[11,22],\n",
    "         [33,44]],\n",
    "        [[55,66],\n",
    "         [77,88]],\n",
    "        [[99,10],\n",
    "         [11,12]]]\n",
    "\n",
    "TENSOR = torch.rand(128,9,9)\n",
    "box = torch.tensor(data)\n",
    "print(TENSOR, box.shape,4*\"\\n\")\n",
    "flad = torch.flatten(TENSOR)\n",
    "print('New shape: \\n',flad.shape)\n",
    "\n",
    "\n",
    "\n"
   ],
   "metadata": {
    "collapsed": false,
    "pycharm": {
     "name": "#%%\n"
    }
   }
  },
  {
   "cell_type": "markdown",
   "source": [
    "##### Residual Classifier"
   ],
   "metadata": {
    "collapsed": false
   }
  },
  {
   "cell_type": "code",
   "execution_count": null,
   "outputs": [],
   "source": [
    "print('I am good at classifiing stuff')"
   ],
   "metadata": {
    "collapsed": false,
    "pycharm": {
     "name": "#%%\n"
    }
   }
  }
 ],
 "metadata": {
  "kernelspec": {
   "display_name": "Python 3",
   "language": "python",
   "name": "python3"
  },
  "language_info": {
   "codemirror_mode": {
    "name": "ipython",
    "version": 2
   },
   "file_extension": ".py",
   "mimetype": "text/x-python",
   "name": "python",
   "nbconvert_exporter": "python",
   "pygments_lexer": "ipython2",
   "version": "2.7.6"
  }
 },
 "nbformat": 4,
 "nbformat_minor": 0
}